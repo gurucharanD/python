{
 "cells": [
  {
   "cell_type": "code",
   "execution_count": 19,
   "metadata": {},
   "outputs": [],
   "source": [
    "import os\n",
    "import urllib.request\n",
    "import zipfile\n",
    "import json"
   ]
  },
  {
   "cell_type": "code",
   "execution_count": 4,
   "metadata": {},
   "outputs": [],
   "source": [
    "es_hadoop = urllib.request.URLopener()\n",
    "es_hadoop.retrieve(\"http://download.elastic.co/hadoop/elasticsearch-hadoop-6.1.1.zip\", \"es-hadoop.zip\")\n",
    "with zipfile.ZipFile(\"es-hadoop.zip\",\"r\") as zip_ref:\n",
    "    zip_ref.extractall()"
   ]
  },
  {
   "cell_type": "code",
   "execution_count": 5,
   "metadata": {},
   "outputs": [],
   "source": [
    "os.environ['PYSPARK_SUBMIT_ARGS'] = '--jars elasticsearch-hadoop-6.1.1/dist/elasticsearch-spark-20_2.11-6.1.1.jar pyspark-shell'"
   ]
  },
  {
   "cell_type": "code",
   "execution_count": 10,
   "metadata": {},
   "outputs": [],
   "source": [
    "from pyspark.sql import SparkSession\n",
    "spark = SparkSession.builder.appName('acsdata').getOrCreate()"
   ]
  },
  {
   "cell_type": "code",
   "execution_count": 42,
   "metadata": {},
   "outputs": [],
   "source": [
    "es_write_conf_acs = {\n",
    "\t# specify the node that we are sending data to (this should be the master)\n",
    "\t\"es.nodes\" : 'elasticsearch',\n",
    "\t# specify the port in case it is not the default port\n",
    "\t\"es.port\" : '9000',\n",
    "\t# specify a resource in the form 'index/doc-type'\n",
    "\t\"es.resource\" : 'pyxis-demographics/demographics',\n",
    "\t# is the input JSON?\n",
    "\t\"es.input.json\" : \"yes\",\n",
    "\t# is there a field in the mapping that should be used to specify the ES document ID\n",
    "\t\"es.mapping.id\": \"id\"\n",
    "}"
   ]
  },
  {
   "cell_type": "code",
   "execution_count": 9,
   "metadata": {},
   "outputs": [
    {
     "name": "stdout",
     "output_type": "stream",
     "text": [
      "root\n",
      " |-- estimateAnnotation: string (nullable = true)\n",
      " |-- estimateValue: long (nullable = true)\n",
      " |-- geoId: string (nullable = true)\n",
      " |-- marginAnnotation: string (nullable = true)\n",
      " |-- marginOfErrorValue: long (nullable = true)\n",
      " |-- variableCode: string (nullable = true)\n",
      " |-- vintage: long (nullable = true)\n",
      "\n"
     ]
    }
   ],
   "source": [
    "df = spark.read.json('data.json')\n",
    "df.printSchema()"
   ]
  },
  {
   "cell_type": "code",
   "execution_count": 22,
   "metadata": {},
   "outputs": [],
   "source": [
    "def generate_Additional_Fields(geoId, vintage, variableCode):\n",
    "    zipCode = geoId.split('US')[1]\n",
    "    code = variableCode.split('_')\n",
    "    id = '{}-{}-{}'.format(zipCode, vintage, variableCode)\n",
    "    return {'id': id, 'zipCode': zipCode, 'variableCode': code[0], 'variableCodeType': code[1]}\n"
   ]
  },
  {
   "cell_type": "code",
   "execution_count": 23,
   "metadata": {},
   "outputs": [
    {
     "data": {
      "text/plain": [
       "{'id': '006012018B25064_001-1-c_c',\n",
       " 'zipCode': '006012018B25064_001',\n",
       " 'variableCodeType': 'c'}"
      ]
     },
     "execution_count": 23,
     "metadata": {},
     "output_type": "execute_result"
    }
   ],
   "source": [
    "generate_Additional_Fields('8600000US006012018B25064_001',1,'c_c')"
   ]
  },
  {
   "cell_type": "code",
   "execution_count": 30,
   "metadata": {},
   "outputs": [],
   "source": [
    "def acs_formatter(x):\n",
    "    additional_Fields = generate_Additional_Fields(\n",
    "        x.geoId, x.vintage, x.variableCode)\n",
    "    id = additional_Fields['id']\n",
    "    return (id, json.dumps({\n",
    "        'id': id,\n",
    "        'geoId': additional_Fields['zipCode'],\n",
    "        'variableCodeType': additional_Fields['variableCodeType'],\n",
    "        'variableCode': additional_Fields['variableCode'],\n",
    "        'estimateValue': x.estimateValue,\n",
    "        'vintage': x.vintage\n",
    "    })\n",
    "    )"
   ]
  },
  {
   "cell_type": "code",
   "execution_count": 37,
   "metadata": {},
   "outputs": [],
   "source": [
    "formattedata = df.rdd.map(lambda x:formatter(x))"
   ]
  },
  {
   "cell_type": "code",
   "execution_count": 39,
   "metadata": {},
   "outputs": [
    {
     "data": {
      "text/plain": [
       "[('00601-2018-B25064_001',\n",
       "  '{\"id\": \"00601-2018-B25064_001\", \"zipCode\": \"00601\", \"variableCodeType\": \"001\", \"estimateAnnotation\": \"\", \"estimateValue\": 363, \"geoId\": \"8600000US00601\", \"marginAnnotation\": \"\", \"marginOfErrorValue\": 40, \"variableCode\": \"B25064_001\", \"vintage\": 2018}')]"
      ]
     },
     "execution_count": 39,
     "metadata": {},
     "output_type": "execute_result"
    }
   ],
   "source": [
    "formattedata.take(1)"
   ]
  },
  {
   "cell_type": "code",
   "execution_count": 40,
   "metadata": {},
   "outputs": [
    {
     "data": {
      "text/plain": [
       "33120"
      ]
     },
     "execution_count": 40,
     "metadata": {},
     "output_type": "execute_result"
    }
   ],
   "source": [
    "formattedata.count()"
   ]
  },
  {
   "cell_type": "code",
   "execution_count": 43,
   "metadata": {},
   "outputs": [],
   "source": [
    "formattedata.saveAsNewAPIHadoopFile(\n",
    "\tpath='-',\n",
    "\toutputFormatClass=\"org.elasticsearch.hadoop.mr.EsOutputFormat\",\n",
    "\tkeyClass=\"org.apache.hadoop.io.NullWritable\",\n",
    "\tvalueClass=\"org.elasticsearch.hadoop.mr.LinkedMapWritable\",\n",
    "\tconf=es_write_conf_acs)"
   ]
  },
  {
   "cell_type": "code",
   "execution_count": null,
   "metadata": {},
   "outputs": [],
   "source": []
  }
 ],
 "metadata": {
  "kernelspec": {
   "display_name": "Python 3",
   "language": "python",
   "name": "python3"
  },
  "language_info": {
   "codemirror_mode": {
    "name": "ipython",
    "version": 3
   },
   "file_extension": ".py",
   "mimetype": "text/x-python",
   "name": "python",
   "nbconvert_exporter": "python",
   "pygments_lexer": "ipython3",
   "version": "3.7.6"
  }
 },
 "nbformat": 4,
 "nbformat_minor": 4
}
