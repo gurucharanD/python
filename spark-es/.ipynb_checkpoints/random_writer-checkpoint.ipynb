{
 "cells": [
  {
   "cell_type": "markdown",
   "metadata": {},
   "source": [
    "# Random Data Generator\n",
    "This notebook generates random data in the format:\n",
    "\n",
    "```\n",
    "{\n",
    "  \"count\": \"count of objects generated\",\n",
    "  \"name\": \"random name from LOTR\",\n",
    "  \"value\": \"a random value between 0 and 100\",\n",
    "  \"timestamp\": \"an epoch timestamp when the object was created\"\n",
    "}\n",
    "```"
   ]
  },
  {
   "cell_type": "code",
   "execution_count": null,
   "metadata": {
    "collapsed": true
   },
   "outputs": [],
   "source": [
    "import time\n",
    "from datetime import datetime\n",
    "import random\n",
    "import json\n",
    "import os\n",
    "import shutil"
   ]
  },
  {
   "cell_type": "markdown",
   "metadata": {},
   "source": [
    "First let's create a directory called `sample`. If one already exists, delete it first."
   ]
  },
  {
   "cell_type": "code",
   "execution_count": null,
   "metadata": {},
   "outputs": [],
   "source": [
    "if 'sample' in os.listdir():\n",
    "    shutil.rmtree('sample')\n",
    "os.mkdir('sample')"
   ]
  },
  {
   "cell_type": "markdown",
   "metadata": {},
   "source": [
    "Next, generate a list of names from LOTR. Also, initialize a counter at 0."
   ]
  },
  {
   "cell_type": "code",
   "execution_count": null,
   "metadata": {
    "collapsed": true
   },
   "outputs": [],
   "source": [
    "names = ['Frodo', 'Gandalf', 'Bilbo', 'Samwise', 'Legolas', 'Aragorn']\n",
    "\n",
    "count = 0"
   ]
  },
  {
   "cell_type": "markdown",
   "metadata": {},
   "source": [
    "Now, let's generate some random data. \n",
    "\n",
    "We'll write each item to a randomly generated file in the `sample` directory."
   ]
  },
  {
   "cell_type": "code",
   "execution_count": null,
   "metadata": {},
   "outputs": [],
   "source": [
    "while True:\n",
    "    # write random data to a random file\n",
    "    with open('sample/stream-sample{}.txt'.format(random.random()),'w') as f:\n",
    "    \n",
    "        # pick a random value between 0 and 100\n",
    "        random_value = random.randint(0, 100)\n",
    "        \n",
    "        # pick a random name from our names list\n",
    "        random_name = names[random.randint(0, len(names) - 1)]\n",
    "        \n",
    "        # generate epoch timestamp\n",
    "        timestamp = int(time.time())\n",
    "        \n",
    "        # generate a dictionary with some output\n",
    "        data = {'count': count, 'name': random_name, 'value': random_value, 'timestamp': timestamp}\n",
    "        \n",
    "        # write the data to a random file\n",
    "        f.write(json.dumps(data))\n",
    "        \n",
    "        # increment the counter\n",
    "        count+=1\n",
    "        \n",
    "        # add one second of sleep\n",
    "        time.sleep(1)"
   ]
  }
 ],
 "metadata": {
  "kernelspec": {
   "display_name": "Python 3",
   "language": "python",
   "name": "python3"
  },
  "language_info": {
   "codemirror_mode": {
    "name": "ipython",
    "version": 3
   },
   "file_extension": ".py",
   "mimetype": "text/x-python",
   "name": "python",
   "nbconvert_exporter": "python",
   "pygments_lexer": "ipython3",
   "version": "3.6.2"
  }
 },
 "nbformat": 4,
 "nbformat_minor": 2
}
